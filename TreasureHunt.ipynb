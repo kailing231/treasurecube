{
  "nbformat": 4,
  "nbformat_minor": 0,
  "metadata": {
    "colab": {
      "name": "TreasureHunt.ipynb",
      "provenance": [],
      "collapsed_sections": [],
      "authorship_tag": "ABX9TyMfAqlGjWk+W8pbJOM0Oz4v",
      "include_colab_link": true
    },
    "kernelspec": {
      "name": "python3",
      "display_name": "Python 3"
    }
  },
  "cells": [
    {
      "cell_type": "markdown",
      "metadata": {
        "id": "view-in-github",
        "colab_type": "text"
      },
      "source": [
        "<a href=\"https://colab.research.google.com/github/kailing231/treasurecube/blob/main/TreasureHunt.ipynb\" target=\"_parent\"><img src=\"https://colab.research.google.com/assets/colab-badge.svg\" alt=\"Open In Colab\"/></a>"
      ]
    },
    {
      "cell_type": "code",
      "metadata": {
        "id": "OiPfwcfVgNvV"
      },
      "source": [
        "# environment.py\n",
        "\n",
        "import numpy as np\n",
        "import time\n",
        "import random\n",
        "\n",
        "from abc import ABC, abstractmethod\n",
        "\n",
        "\n",
        "class AbstractEnvironment(ABC):\n",
        "    def __init__(self):\n",
        "        self.agent_sign = '+'\n",
        "        self.goal_sign = 'G'\n",
        "        self.corridor_sign = '-'\n",
        "\n",
        "    def render(self):\n",
        "        raise NotImplemented\n",
        "\n",
        "    def reset(self):\n",
        "        raise NotImplemented\n",
        "\n",
        "    def step(self, action):\n",
        "        raise NotImplemented\n",
        "\n",
        "class TreasureCube(AbstractEnvironment):\n",
        "    def __init__(self, max_step=20):\n",
        "        super(TreasureCube, self).__init__()\n",
        "        self.dim = 4\n",
        "        self.max_step = max_step\n",
        "        self.curr_pos = [0, 0, 0]  # (z, x, y)\n",
        "        self.time_step = 0\n",
        "        self.end_pos = [self.dim - 1, self.dim - 1, self.dim - 1]\n",
        "        self.visual_state = []\n",
        "        self.seed = None\n",
        "        self.set_seed()\n",
        "        self.all_actions = ['right', 'left', 'up', 'down', 'forward', 'backward']\n",
        "        self.slip_actions = dict()\n",
        "        self.set_action_rules()\n",
        "\n",
        "    def reset(self):\n",
        "        self.curr_pos = [0, 0, 0]\n",
        "        self.time_step = 0\n",
        "        self.end_pos = [self.dim - 1, self.dim - 1, self.dim - 1]\n",
        "        self._reset_visual_states(self.curr_pos, self.end_pos)\n",
        "        return ''.join(str(pos) for pos in self.curr_pos)\n",
        "\n",
        "    def randomState(self):\n",
        "        x = random.randrange(0,3)\n",
        "        y = random.randrange(0,3)\n",
        "        z = random.randrange(0,3)\n",
        "        return [x,y,z]\n",
        "\n",
        "    def step(self, action, stochastic=True):\n",
        "        in_action = action  # action from agent\n",
        "        assert action in self.all_actions\n",
        "        reward = -0.1\n",
        "        is_terminate = False\n",
        "        pre_pos = self.curr_pos\n",
        "        r = random.random()\n",
        "        if action == 'right':\n",
        "            if r < 0.1:\n",
        "                action = 'up'\n",
        "            elif r < 0.2:\n",
        "                action = 'down'\n",
        "            elif r < 0.3:\n",
        "                action = 'forward'\n",
        "            elif r < 0.4:\n",
        "                action = 'backward'\n",
        "            else:\n",
        "                action = 'right'\n",
        "        elif action == 'left':\n",
        "            if r < 0.1:\n",
        "                action = 'up'\n",
        "            elif r < 0.2:\n",
        "                action = 'down'\n",
        "            elif r < 0.3:\n",
        "                action = 'forward'\n",
        "            elif r < 0.4:\n",
        "                action = 'backward'\n",
        "            else:\n",
        "                action = 'left'\n",
        "        elif action == 'up':\n",
        "            if r < 0.1:\n",
        "                action = 'left'\n",
        "            elif r < 0.2:\n",
        "                action = 'right'\n",
        "            elif r < 0.3:\n",
        "                action = 'forward'\n",
        "            elif r < 0.4:\n",
        "                action = 'backward'\n",
        "            else:\n",
        "                action = 'up'\n",
        "        elif action == 'down':\n",
        "            if r < 0.1:\n",
        "                action = 'left'\n",
        "            elif r < 0.2:\n",
        "                action = 'right'\n",
        "            elif r < 0.3:\n",
        "                action = 'forward'\n",
        "            elif r < 0.4:\n",
        "                action = 'backward'\n",
        "            else:\n",
        "                action = 'down'\n",
        "        elif action == 'forward':\n",
        "            if r < 0.1:\n",
        "                action = 'left'\n",
        "            elif r < 0.2:\n",
        "                action = 'right'\n",
        "            elif r < 0.3:\n",
        "                action = 'up'\n",
        "            elif r < 0.4:\n",
        "                action = 'down'\n",
        "            else:\n",
        "                action = 'forward'\n",
        "        else:\n",
        "            if r < 0.1:\n",
        "                action = 'left'\n",
        "            elif r < 0.2:\n",
        "                action = 'right'\n",
        "            elif r < 0.3:\n",
        "                action = 'up'\n",
        "            elif r < 0.4:\n",
        "                action = 'down'\n",
        "            else:\n",
        "                action = 'backward'\n",
        "\n",
        "        if not stochastic:\n",
        "            action = in_action\n",
        "\n",
        "        assert action in self.all_actions\n",
        "        if action == 'left':\n",
        "            if self.curr_pos[1] == 0:  # wall\n",
        "                pass\n",
        "            else:\n",
        "                self.curr_pos[1] -= 1\n",
        "        elif action == 'right':\n",
        "            if self.curr_pos[1] == self.dim - 1:  # wall\n",
        "                pass\n",
        "            elif self.curr_pos[1] == self.dim - 2 and self.curr_pos[0] == self.dim - 1 and self.curr_pos[\n",
        "                2] == self.dim - 1:\n",
        "                self.curr_pos[1] += 1\n",
        "                is_terminate = True\n",
        "                reward = 1\n",
        "            else:\n",
        "                self.curr_pos[1] += 1\n",
        "\n",
        "        elif action == 'forward':\n",
        "            if self.curr_pos[0] == self.dim - 1:  # wall\n",
        "                pass\n",
        "            elif self.curr_pos[0] == self.dim - 2 and self.curr_pos[1] == self.dim - 1 and self.curr_pos[\n",
        "                2] == self.dim - 1:\n",
        "                self.curr_pos[0] += 1\n",
        "                is_terminate = True\n",
        "                reward = 1\n",
        "            else:\n",
        "                self.curr_pos[0] += 1\n",
        "        elif action == 'backward':\n",
        "            if self.curr_pos[0] == 0:  # wall\n",
        "                pass\n",
        "            else:\n",
        "                self.curr_pos[0] -= 1\n",
        "\n",
        "        elif action == 'up':\n",
        "            if self.curr_pos[2] == self.dim - 1:  # wall\n",
        "                pass\n",
        "            elif self.curr_pos[2] == self.dim - 2 and self.curr_pos[0] == self.dim - 1 and self.curr_pos[\n",
        "                1] == self.dim - 1:\n",
        "                self.curr_pos[2] += 1\n",
        "                is_terminate = True\n",
        "                reward = 1\n",
        "            else:\n",
        "                self.curr_pos[2] += 1\n",
        "        elif action == 'down':\n",
        "            if self.curr_pos[2] == 0:\n",
        "                pass\n",
        "            else:\n",
        "                self.curr_pos[2] -= 1\n",
        "\n",
        "        assert action in self.all_actions\n",
        "        self.time_step += 1\n",
        "        if self.time_step == self.max_step - 1:\n",
        "            is_terminate = True\n",
        "\n",
        "        self._reset_visual_states(self.curr_pos, self.end_pos)\n",
        "        return reward, is_terminate, ''.join(str(pos) for pos in self.curr_pos)\n",
        "\n",
        "    def render(self):\n",
        "        print(' '.join(['*'] * self.dim))\n",
        "        for i in range(self.dim):\n",
        "            for line in self.visual_state[i]:\n",
        "                print(' '.join(line))\n",
        "            print(' '.join(['#'] * self.dim))\n",
        "        print(' '.join(['*'] * self.dim))\n",
        "\n",
        "    def set_seed(self, seed=10086):\n",
        "        self.seed = seed\n",
        "        random.seed(seed)\n",
        "\n",
        "    def _reset_visual_states(self, agent_pos, goal_pos):\n",
        "        self.visual_state = [[[self.corridor_sign] * self.dim for _ in range(self.dim)] for _ in range(self.dim)]\n",
        "        self.visual_state[agent_pos[0]][agent_pos[1]][agent_pos[2]] = self.agent_sign\n",
        "        self.visual_state[goal_pos[0]][goal_pos[1]][goal_pos[2]] = self.goal_sign\n",
        "\n",
        "    def set_action_rules(self):\n",
        "        self.slip_actions['right'] = ['up', 'down', 'forward', 'backward', 'right']\n",
        "        self.slip_actions['left'] = ['up', 'down', 'forward', 'backward', 'left']\n",
        "        self.slip_actions['up'] = ['left', 'right', 'forward', 'backward', 'up']\n",
        "        self.slip_actions['down'] = ['left', 'right', 'forward', 'backward', 'down']\n",
        "        self.slip_actions['forward'] = ['left', 'right', 'up', 'down', 'forward']\n",
        "        self.slip_actions['backward'] = ['left', 'right', 'up', 'down', 'backward']\n",
        "\n"
      ],
      "execution_count": 1,
      "outputs": []
    },
    {
      "cell_type": "markdown",
      "metadata": {
        "id": "oAUY_iV0h6r7"
      },
      "source": [
        "test.py"
      ]
    },
    {
      "cell_type": "code",
      "metadata": {
        "id": "NtPeHBGVhAPt"
      },
      "source": [
        "import argparse\n",
        "import random\n",
        "\n",
        "import pandas as pd"
      ],
      "execution_count": 54,
      "outputs": []
    },
    {
      "cell_type": "code",
      "metadata": {
        "id": "o9FwlcIiiRJD"
      },
      "source": [
        "# initial all 0's\n",
        "# each coordinate value = [0,3]\n",
        "# row = state, no of states = 4*4*4 = 64\n",
        "# col = action, no of actions = 6\n",
        "\n",
        "env = TreasureCube();\n",
        "length = env.dim\n",
        "\n",
        "indexnames = []\n",
        "for x in range(length):\n",
        "    for y in range(length):\n",
        "        for z in range(length):\n",
        "          indexnames.append(str(x) + str(y) + str(z))\n",
        "\n",
        "Qtable = np.zeros([64, 6])\n",
        "Qtable = pd.DataFrame(Qtable, index=indexnames, columns=env.all_actions)"
      ],
      "execution_count": 118,
      "outputs": []
    },
    {
      "cell_type": "code",
      "metadata": {
        "id": "18pJOzaNuDSD"
      },
      "source": [
        "qdf = Qtable.copy()"
      ],
      "execution_count": 111,
      "outputs": []
    },
    {
      "cell_type": "code",
      "metadata": {
        "id": "xIdZJ9or0Nyu",
        "outputId": "04286f0b-de80-4e2b-ff02-34ec3778288e",
        "colab": {
          "base_uri": "https://localhost:8080/",
          "height": 34
        }
      },
      "source": [
        "# Qtable.loc['000'] # find all action values, of the state\n",
        "state = \"000\"\n",
        "# Qtable.loc[state].idxmax()\n",
        "action = \"left\"\n",
        "# qdf.loc[state, action] = 999\n",
        "qdf.loc[state].max()"
      ],
      "execution_count": 116,
      "outputs": [
        {
          "output_type": "execute_result",
          "data": {
            "text/plain": [
              "999.0"
            ]
          },
          "metadata": {
            "tags": []
          },
          "execution_count": 116
        }
      ]
    },
    {
      "cell_type": "code",
      "metadata": {
        "id": "F8KO3i0708n7",
        "outputId": "c335a6f7-242b-4cd0-82d1-0a9e5fc14185",
        "colab": {
          "base_uri": "https://localhost:8080/",
          "height": 35
        }
      },
      "source": [
        "state = env.randomState()\n",
        "\"\".join([str(s) for s in state]) "
      ],
      "execution_count": 130,
      "outputs": [
        {
          "output_type": "execute_result",
          "data": {
            "application/vnd.google.colaboratory.intrinsic+json": {
              "type": "string"
            },
            "text/plain": [
              "'022'"
            ]
          },
          "metadata": {
            "tags": []
          },
          "execution_count": 130
        }
      ]
    },
    {
      "cell_type": "code",
      "metadata": {
        "id": "oqMnI0tBh97R"
      },
      "source": [
        "class RandomAgent(object):\n",
        "    def __init__(self):\n",
        "        self.action_space = ['left','right','forward','backward','up','down'] # in TreasureCube\n",
        "        self.Q = []\n",
        "\n",
        "    def take_action(self, state):\n",
        "        action = random.choice(self.action_space)\n",
        "        return action\n",
        "\n",
        "    # implement your train/update function to update self.V or self.Q\n",
        "    # you should pass arguments to the train function\n",
        "    def train(self, state, action, next_state, reward):\n",
        "#        pass\n",
        "      alpha = 0.5 # learning rate\n",
        "      gamma = 0.99 # discount factor\n",
        "      epsilon = 0.01 # exploration rate\n",
        "      \n",
        "      # For plotting metrics\n",
        "      all_epochs = [] # todo remove\n",
        "      all_penalties = [] # todo remove\n",
        "      \n",
        "      for i in range(1, 100001):        \n",
        "#        state = env.reset() # reset environment to a new, random state\n",
        "        state = env.randomState()\n",
        "        state = \"\".join([str(s) for s in state])\n",
        "#        print(\"*** Current state = \", state)\n",
        "\n",
        "        epochs = 0.0\n",
        "        penalties = 0.0\n",
        "        reward = 0.0\n",
        "        done = False\n",
        "\n",
        "        while not done:\n",
        "          if random.uniform(0, 1) < epsilon:\n",
        "#            action = env.all_actions.sample() # Explore action space\n",
        "            action = random.choice(env.all_actions)\n",
        "          else:   \n",
        "            # get highest action, of the state\n",
        "            action = Qtable.loc[state].idxmax()\n",
        "#            action = np.argmax(Qtable[state]) \n",
        "#            action = np.argmax(Qtable[\"\".join([str(c) for c in state])])\n",
        "\n",
        "          # returns: reward, is_terminate, ''.join(str(pos) for pos in self.curr_pos)\n",
        "#          next_state, reward, done, info = env.step(action) \n",
        "          reward, done, next_state = env.step(action) \n",
        "\n",
        "#          old_value = Qtable[state, action]\n",
        "          old_value = Qtable.loc[state, action]\n",
        "#          next_max = np.max(Qtable[next_state])\n",
        "          next_max = Qtable.loc[next_state].max()\n",
        "\n",
        "          new_value = (1.0 - alpha) * old_value + alpha * (reward + gamma * next_max)\n",
        "#          Qtable[state, action] = new_value\n",
        "          Qtable.loc[state, action] = new_value\n",
        "\n",
        "          if reward == -10:\n",
        "            penalties += 1\n",
        "\n",
        "          state = next_state\n",
        "          epochs += 1\n",
        "\n",
        "        if i % 100 == 0:\n",
        "#          clear_output(wait=True)\n",
        "          print(f\"Episode: {i}\")\n",
        "\n",
        "      print(\"Training finished.\\n\")"
      ],
      "execution_count": 141,
      "outputs": []
    },
    {
      "cell_type": "code",
      "metadata": {
        "id": "IFdEbv5dsCHr",
        "outputId": "e12b2137-1fdd-4aa7-f2d3-a53e971b2702",
        "colab": {
          "base_uri": "https://localhost:8080/",
          "height": 952
        }
      },
      "source": [
        "# TODO\n",
        "max_episode = 500\n",
        "max_step = 500\n",
        "\n",
        "env = TreasureCube()\n",
        "agent = RandomAgent()\n",
        "\n",
        "for epsisode_num in range(0, max_episode):\n",
        "        state = env.reset()\n",
        "        terminate = False\n",
        "        t = 0\n",
        "        episode_reward = 0\n",
        "        while not terminate:\n",
        "            action = agent.take_action(state)\n",
        "            reward, terminate, next_state = env.step(action)\n",
        "            episode_reward += reward\n",
        "            # you can comment the following two lines, if the output is too much\n",
        "            env.render() # comment\n",
        "            print(f'step: {t}, action: {action}, reward: {reward}') # comment\n",
        "            t += 1\n",
        "            agent.train(state, action, next_state, reward)\n",
        "            state = next_state\n",
        "        print(f'epsisode: {epsisode_num}, total_steps: {t} episode reward: {episode_reward}')"
      ],
      "execution_count": 142,
      "outputs": [
        {
          "output_type": "stream",
          "text": [
            "Episode: 1500\n",
            "Episode: 1600\n",
            "Episode: 1700\n",
            "Episode: 1800\n",
            "Episode: 1900\n",
            "Episode: 2000\n",
            "Episode: 2100\n",
            "Episode: 2200\n",
            "Episode: 2300\n",
            "Episode: 2400\n",
            "Episode: 2500\n",
            "Episode: 2600\n",
            "Episode: 2700\n",
            "Episode: 2800\n",
            "Episode: 2900\n",
            "Episode: 3000\n",
            "Episode: 3100\n",
            "Episode: 3200\n",
            "Episode: 3300\n",
            "Episode: 3400\n",
            "Episode: 3500\n",
            "Episode: 3600\n",
            "Episode: 3700\n",
            "Episode: 3800\n",
            "Episode: 3900\n",
            "Episode: 4000\n",
            "Episode: 4100\n",
            "Episode: 4200\n",
            "Episode: 4300\n",
            "Episode: 4400\n",
            "Episode: 4500\n",
            "Episode: 4600\n",
            "Episode: 4700\n",
            "Episode: 4800\n"
          ],
          "name": "stdout"
        },
        {
          "output_type": "error",
          "ename": "KeyboardInterrupt",
          "evalue": "ignored",
          "traceback": [
            "\u001b[0;31m---------------------------------------------------------------------------\u001b[0m",
            "\u001b[0;31mKeyboardInterrupt\u001b[0m                         Traceback (most recent call last)",
            "\u001b[0;32m<ipython-input-142-5dc906e53c26>\u001b[0m in \u001b[0;36m<module>\u001b[0;34m()\u001b[0m\n\u001b[1;32m     19\u001b[0m             \u001b[0mprint\u001b[0m\u001b[0;34m(\u001b[0m\u001b[0;34mf'step: {t}, action: {action}, reward: {reward}'\u001b[0m\u001b[0;34m)\u001b[0m \u001b[0;31m# comment\u001b[0m\u001b[0;34m\u001b[0m\u001b[0;34m\u001b[0m\u001b[0m\n\u001b[1;32m     20\u001b[0m             \u001b[0mt\u001b[0m \u001b[0;34m+=\u001b[0m \u001b[0;36m1\u001b[0m\u001b[0;34m\u001b[0m\u001b[0;34m\u001b[0m\u001b[0m\n\u001b[0;32m---> 21\u001b[0;31m             \u001b[0magent\u001b[0m\u001b[0;34m.\u001b[0m\u001b[0mtrain\u001b[0m\u001b[0;34m(\u001b[0m\u001b[0mstate\u001b[0m\u001b[0;34m,\u001b[0m \u001b[0maction\u001b[0m\u001b[0;34m,\u001b[0m \u001b[0mnext_state\u001b[0m\u001b[0;34m,\u001b[0m \u001b[0mreward\u001b[0m\u001b[0;34m)\u001b[0m\u001b[0;34m\u001b[0m\u001b[0;34m\u001b[0m\u001b[0m\n\u001b[0m\u001b[1;32m     22\u001b[0m             \u001b[0mstate\u001b[0m \u001b[0;34m=\u001b[0m \u001b[0mnext_state\u001b[0m\u001b[0;34m\u001b[0m\u001b[0;34m\u001b[0m\u001b[0m\n\u001b[1;32m     23\u001b[0m         \u001b[0mprint\u001b[0m\u001b[0;34m(\u001b[0m\u001b[0;34mf'epsisode: {epsisode_num}, total_steps: {t} episode reward: {episode_reward}'\u001b[0m\u001b[0;34m)\u001b[0m\u001b[0;34m\u001b[0m\u001b[0;34m\u001b[0m\u001b[0m\n",
            "\u001b[0;32m<ipython-input-141-2a00d89ca448>\u001b[0m in \u001b[0;36mtrain\u001b[0;34m(self, state, action, next_state, reward)\u001b[0m\n\u001b[1;32m     37\u001b[0m           \u001b[0;32melse\u001b[0m\u001b[0;34m:\u001b[0m\u001b[0;34m\u001b[0m\u001b[0;34m\u001b[0m\u001b[0m\n\u001b[1;32m     38\u001b[0m             \u001b[0;31m# get highest action, of the state\u001b[0m\u001b[0;34m\u001b[0m\u001b[0;34m\u001b[0m\u001b[0;34m\u001b[0m\u001b[0m\n\u001b[0;32m---> 39\u001b[0;31m             \u001b[0maction\u001b[0m \u001b[0;34m=\u001b[0m \u001b[0mQtable\u001b[0m\u001b[0;34m.\u001b[0m\u001b[0mloc\u001b[0m\u001b[0;34m[\u001b[0m\u001b[0mstate\u001b[0m\u001b[0;34m]\u001b[0m\u001b[0;34m.\u001b[0m\u001b[0midxmax\u001b[0m\u001b[0;34m(\u001b[0m\u001b[0;34m)\u001b[0m\u001b[0;34m\u001b[0m\u001b[0;34m\u001b[0m\u001b[0m\n\u001b[0m\u001b[1;32m     40\u001b[0m \u001b[0;31m#            action = np.argmax(Qtable[state])\u001b[0m\u001b[0;34m\u001b[0m\u001b[0;34m\u001b[0m\u001b[0;34m\u001b[0m\u001b[0m\n\u001b[1;32m     41\u001b[0m \u001b[0;31m#            action = np.argmax(Qtable[\"\".join([str(c) for c in state])])\u001b[0m\u001b[0;34m\u001b[0m\u001b[0;34m\u001b[0m\u001b[0;34m\u001b[0m\u001b[0m\n",
            "\u001b[0;32m/usr/local/lib/python3.6/dist-packages/pandas/core/series.py\u001b[0m in \u001b[0;36midxmax\u001b[0;34m(self, axis, skipna, *args, **kwargs)\u001b[0m\n\u001b[1;32m   2166\u001b[0m         \"\"\"\n\u001b[1;32m   2167\u001b[0m         \u001b[0mskipna\u001b[0m \u001b[0;34m=\u001b[0m \u001b[0mnv\u001b[0m\u001b[0;34m.\u001b[0m\u001b[0mvalidate_argmax_with_skipna\u001b[0m\u001b[0;34m(\u001b[0m\u001b[0mskipna\u001b[0m\u001b[0;34m,\u001b[0m \u001b[0margs\u001b[0m\u001b[0;34m,\u001b[0m \u001b[0mkwargs\u001b[0m\u001b[0;34m)\u001b[0m\u001b[0;34m\u001b[0m\u001b[0;34m\u001b[0m\u001b[0m\n\u001b[0;32m-> 2168\u001b[0;31m         \u001b[0mi\u001b[0m \u001b[0;34m=\u001b[0m \u001b[0mnanops\u001b[0m\u001b[0;34m.\u001b[0m\u001b[0mnanargmax\u001b[0m\u001b[0;34m(\u001b[0m\u001b[0mself\u001b[0m\u001b[0;34m.\u001b[0m\u001b[0m_values\u001b[0m\u001b[0;34m,\u001b[0m \u001b[0mskipna\u001b[0m\u001b[0;34m=\u001b[0m\u001b[0mskipna\u001b[0m\u001b[0;34m)\u001b[0m\u001b[0;34m\u001b[0m\u001b[0;34m\u001b[0m\u001b[0m\n\u001b[0m\u001b[1;32m   2169\u001b[0m         \u001b[0;32mif\u001b[0m \u001b[0mi\u001b[0m \u001b[0;34m==\u001b[0m \u001b[0;34m-\u001b[0m\u001b[0;36m1\u001b[0m\u001b[0;34m:\u001b[0m\u001b[0;34m\u001b[0m\u001b[0;34m\u001b[0m\u001b[0m\n\u001b[1;32m   2170\u001b[0m             \u001b[0;32mreturn\u001b[0m \u001b[0mnp\u001b[0m\u001b[0;34m.\u001b[0m\u001b[0mnan\u001b[0m\u001b[0;34m\u001b[0m\u001b[0;34m\u001b[0m\u001b[0m\n",
            "\u001b[0;32m/usr/local/lib/python3.6/dist-packages/pandas/core/nanops.py\u001b[0m in \u001b[0;36m_f\u001b[0;34m(*args, **kwargs)\u001b[0m\n\u001b[1;32m     69\u001b[0m             \u001b[0;32mtry\u001b[0m\u001b[0;34m:\u001b[0m\u001b[0;34m\u001b[0m\u001b[0;34m\u001b[0m\u001b[0m\n\u001b[1;32m     70\u001b[0m                 \u001b[0;32mwith\u001b[0m \u001b[0mnp\u001b[0m\u001b[0;34m.\u001b[0m\u001b[0merrstate\u001b[0m\u001b[0;34m(\u001b[0m\u001b[0minvalid\u001b[0m\u001b[0;34m=\u001b[0m\u001b[0;34m\"ignore\"\u001b[0m\u001b[0;34m)\u001b[0m\u001b[0;34m:\u001b[0m\u001b[0;34m\u001b[0m\u001b[0;34m\u001b[0m\u001b[0m\n\u001b[0;32m---> 71\u001b[0;31m                     \u001b[0;32mreturn\u001b[0m \u001b[0mf\u001b[0m\u001b[0;34m(\u001b[0m\u001b[0;34m*\u001b[0m\u001b[0margs\u001b[0m\u001b[0;34m,\u001b[0m \u001b[0;34m**\u001b[0m\u001b[0mkwargs\u001b[0m\u001b[0;34m)\u001b[0m\u001b[0;34m\u001b[0m\u001b[0;34m\u001b[0m\u001b[0m\n\u001b[0m\u001b[1;32m     72\u001b[0m             \u001b[0;32mexcept\u001b[0m \u001b[0mValueError\u001b[0m \u001b[0;32mas\u001b[0m \u001b[0me\u001b[0m\u001b[0;34m:\u001b[0m\u001b[0;34m\u001b[0m\u001b[0;34m\u001b[0m\u001b[0m\n\u001b[1;32m     73\u001b[0m                 \u001b[0;31m# we want to transform an object array\u001b[0m\u001b[0;34m\u001b[0m\u001b[0;34m\u001b[0m\u001b[0;34m\u001b[0m\u001b[0m\n",
            "\u001b[0;32m/usr/local/lib/python3.6/dist-packages/pandas/core/nanops.py\u001b[0m in \u001b[0;36mnanargmax\u001b[0;34m(values, axis, skipna, mask)\u001b[0m\n\u001b[1;32m    921\u001b[0m     \u001b[0marray\u001b[0m\u001b[0;34m(\u001b[0m\u001b[0;34m[\u001b[0m\u001b[0;36m2\u001b[0m\u001b[0;34m,\u001b[0m \u001b[0;36m2\u001b[0m\u001b[0;34m,\u001b[0m \u001b[0;36m1\u001b[0m\u001b[0;34m,\u001b[0m \u001b[0;36m1\u001b[0m\u001b[0;34m]\u001b[0m\u001b[0;34m,\u001b[0m \u001b[0mdtype\u001b[0m\u001b[0;34m=\u001b[0m\u001b[0mint64\u001b[0m\u001b[0;34m)\u001b[0m\u001b[0;34m\u001b[0m\u001b[0;34m\u001b[0m\u001b[0m\n\u001b[1;32m    922\u001b[0m     \"\"\"\n\u001b[0;32m--> 923\u001b[0;31m     \u001b[0mvalues\u001b[0m\u001b[0;34m,\u001b[0m \u001b[0mmask\u001b[0m\u001b[0;34m,\u001b[0m \u001b[0m_\u001b[0m\u001b[0;34m,\u001b[0m \u001b[0m_\u001b[0m\u001b[0;34m,\u001b[0m \u001b[0m_\u001b[0m \u001b[0;34m=\u001b[0m \u001b[0m_get_values\u001b[0m\u001b[0;34m(\u001b[0m\u001b[0mvalues\u001b[0m\u001b[0;34m,\u001b[0m \u001b[0;32mTrue\u001b[0m\u001b[0;34m,\u001b[0m \u001b[0mfill_value_typ\u001b[0m\u001b[0;34m=\u001b[0m\u001b[0;34m\"-inf\"\u001b[0m\u001b[0;34m,\u001b[0m \u001b[0mmask\u001b[0m\u001b[0;34m=\u001b[0m\u001b[0mmask\u001b[0m\u001b[0;34m)\u001b[0m\u001b[0;34m\u001b[0m\u001b[0;34m\u001b[0m\u001b[0m\n\u001b[0m\u001b[1;32m    924\u001b[0m     \u001b[0mresult\u001b[0m \u001b[0;34m=\u001b[0m \u001b[0mvalues\u001b[0m\u001b[0;34m.\u001b[0m\u001b[0margmax\u001b[0m\u001b[0;34m(\u001b[0m\u001b[0maxis\u001b[0m\u001b[0;34m)\u001b[0m\u001b[0;34m\u001b[0m\u001b[0;34m\u001b[0m\u001b[0m\n\u001b[1;32m    925\u001b[0m     \u001b[0mresult\u001b[0m \u001b[0;34m=\u001b[0m \u001b[0m_maybe_arg_null_out\u001b[0m\u001b[0;34m(\u001b[0m\u001b[0mresult\u001b[0m\u001b[0;34m,\u001b[0m \u001b[0maxis\u001b[0m\u001b[0;34m,\u001b[0m \u001b[0mmask\u001b[0m\u001b[0;34m,\u001b[0m \u001b[0mskipna\u001b[0m\u001b[0;34m)\u001b[0m\u001b[0;34m\u001b[0m\u001b[0;34m\u001b[0m\u001b[0m\n",
            "\u001b[0;32m/usr/local/lib/python3.6/dist-packages/pandas/core/nanops.py\u001b[0m in \u001b[0;36m_get_values\u001b[0;34m(values, skipna, fill_value, fill_value_typ, mask)\u001b[0m\n\u001b[1;32m    284\u001b[0m     \u001b[0mvalues\u001b[0m \u001b[0;34m=\u001b[0m \u001b[0mextract_array\u001b[0m\u001b[0;34m(\u001b[0m\u001b[0mvalues\u001b[0m\u001b[0;34m,\u001b[0m \u001b[0mextract_numpy\u001b[0m\u001b[0;34m=\u001b[0m\u001b[0;32mTrue\u001b[0m\u001b[0;34m)\u001b[0m\u001b[0;34m\u001b[0m\u001b[0;34m\u001b[0m\u001b[0m\n\u001b[1;32m    285\u001b[0m \u001b[0;34m\u001b[0m\u001b[0m\n\u001b[0;32m--> 286\u001b[0;31m     \u001b[0mmask\u001b[0m \u001b[0;34m=\u001b[0m \u001b[0m_maybe_get_mask\u001b[0m\u001b[0;34m(\u001b[0m\u001b[0mvalues\u001b[0m\u001b[0;34m,\u001b[0m \u001b[0mskipna\u001b[0m\u001b[0;34m,\u001b[0m \u001b[0mmask\u001b[0m\u001b[0;34m)\u001b[0m\u001b[0;34m\u001b[0m\u001b[0;34m\u001b[0m\u001b[0m\n\u001b[0m\u001b[1;32m    287\u001b[0m \u001b[0;34m\u001b[0m\u001b[0m\n\u001b[1;32m    288\u001b[0m     \u001b[0mdtype\u001b[0m \u001b[0;34m=\u001b[0m \u001b[0mvalues\u001b[0m\u001b[0;34m.\u001b[0m\u001b[0mdtype\u001b[0m\u001b[0;34m\u001b[0m\u001b[0;34m\u001b[0m\u001b[0m\n",
            "\u001b[0;32m/usr/local/lib/python3.6/dist-packages/pandas/core/nanops.py\u001b[0m in \u001b[0;36m_maybe_get_mask\u001b[0;34m(values, skipna, mask)\u001b[0m\n\u001b[1;32m    230\u001b[0m \u001b[0;34m\u001b[0m\u001b[0m\n\u001b[1;32m    231\u001b[0m         \u001b[0;32mif\u001b[0m \u001b[0mskipna\u001b[0m\u001b[0;34m:\u001b[0m\u001b[0;34m\u001b[0m\u001b[0;34m\u001b[0m\u001b[0m\n\u001b[0;32m--> 232\u001b[0;31m             \u001b[0mmask\u001b[0m \u001b[0;34m=\u001b[0m \u001b[0misna\u001b[0m\u001b[0;34m(\u001b[0m\u001b[0mvalues\u001b[0m\u001b[0;34m)\u001b[0m\u001b[0;34m\u001b[0m\u001b[0;34m\u001b[0m\u001b[0m\n\u001b[0m\u001b[1;32m    233\u001b[0m \u001b[0;34m\u001b[0m\u001b[0m\n\u001b[1;32m    234\u001b[0m     \u001b[0;32mreturn\u001b[0m \u001b[0mmask\u001b[0m\u001b[0;34m\u001b[0m\u001b[0;34m\u001b[0m\u001b[0m\n",
            "\u001b[0;32m/usr/local/lib/python3.6/dist-packages/pandas/core/dtypes/missing.py\u001b[0m in \u001b[0;36misna\u001b[0;34m(obj)\u001b[0m\n\u001b[1;32m    122\u001b[0m     \u001b[0mName\u001b[0m\u001b[0;34m:\u001b[0m \u001b[0;36m1\u001b[0m\u001b[0;34m,\u001b[0m \u001b[0mdtype\u001b[0m\u001b[0;34m:\u001b[0m \u001b[0mbool\u001b[0m\u001b[0;34m\u001b[0m\u001b[0;34m\u001b[0m\u001b[0m\n\u001b[1;32m    123\u001b[0m     \"\"\"\n\u001b[0;32m--> 124\u001b[0;31m     \u001b[0;32mreturn\u001b[0m \u001b[0m_isna\u001b[0m\u001b[0;34m(\u001b[0m\u001b[0mobj\u001b[0m\u001b[0;34m)\u001b[0m\u001b[0;34m\u001b[0m\u001b[0;34m\u001b[0m\u001b[0m\n\u001b[0m\u001b[1;32m    125\u001b[0m \u001b[0;34m\u001b[0m\u001b[0m\n\u001b[1;32m    126\u001b[0m \u001b[0;34m\u001b[0m\u001b[0m\n",
            "\u001b[0;32m/usr/local/lib/python3.6/dist-packages/pandas/core/dtypes/missing.py\u001b[0m in \u001b[0;36m_isna\u001b[0;34m(obj, inf_as_na)\u001b[0m\n\u001b[1;32m    155\u001b[0m         \u001b[0;32mreturn\u001b[0m \u001b[0;32mFalse\u001b[0m\u001b[0;34m\u001b[0m\u001b[0;34m\u001b[0m\u001b[0m\n\u001b[1;32m    156\u001b[0m     \u001b[0;32melif\u001b[0m \u001b[0misinstance\u001b[0m\u001b[0;34m(\u001b[0m\u001b[0mobj\u001b[0m\u001b[0;34m,\u001b[0m \u001b[0;34m(\u001b[0m\u001b[0mABCSeries\u001b[0m\u001b[0;34m,\u001b[0m \u001b[0mnp\u001b[0m\u001b[0;34m.\u001b[0m\u001b[0mndarray\u001b[0m\u001b[0;34m,\u001b[0m \u001b[0mABCIndexClass\u001b[0m\u001b[0;34m,\u001b[0m \u001b[0mABCExtensionArray\u001b[0m\u001b[0;34m)\u001b[0m\u001b[0;34m)\u001b[0m\u001b[0;34m:\u001b[0m\u001b[0;34m\u001b[0m\u001b[0;34m\u001b[0m\u001b[0m\n\u001b[0;32m--> 157\u001b[0;31m         \u001b[0;32mreturn\u001b[0m \u001b[0m_isna_ndarraylike\u001b[0m\u001b[0;34m(\u001b[0m\u001b[0mobj\u001b[0m\u001b[0;34m,\u001b[0m \u001b[0minf_as_na\u001b[0m\u001b[0;34m=\u001b[0m\u001b[0minf_as_na\u001b[0m\u001b[0;34m)\u001b[0m\u001b[0;34m\u001b[0m\u001b[0;34m\u001b[0m\u001b[0m\n\u001b[0m\u001b[1;32m    158\u001b[0m     \u001b[0;32melif\u001b[0m \u001b[0misinstance\u001b[0m\u001b[0;34m(\u001b[0m\u001b[0mobj\u001b[0m\u001b[0;34m,\u001b[0m \u001b[0mABCDataFrame\u001b[0m\u001b[0;34m)\u001b[0m\u001b[0;34m:\u001b[0m\u001b[0;34m\u001b[0m\u001b[0;34m\u001b[0m\u001b[0m\n\u001b[1;32m    159\u001b[0m         \u001b[0;32mreturn\u001b[0m \u001b[0mobj\u001b[0m\u001b[0;34m.\u001b[0m\u001b[0misna\u001b[0m\u001b[0;34m(\u001b[0m\u001b[0;34m)\u001b[0m\u001b[0;34m\u001b[0m\u001b[0;34m\u001b[0m\u001b[0m\n",
            "\u001b[0;32m/usr/local/lib/python3.6/dist-packages/pandas/core/dtypes/missing.py\u001b[0m in \u001b[0;36m_isna_ndarraylike\u001b[0;34m(obj, inf_as_na)\u001b[0m\n\u001b[1;32m    227\u001b[0m \u001b[0;34m\u001b[0m\u001b[0m\n\u001b[1;32m    228\u001b[0m     \u001b[0;31m# box\u001b[0m\u001b[0;34m\u001b[0m\u001b[0;34m\u001b[0m\u001b[0;34m\u001b[0m\u001b[0m\n\u001b[0;32m--> 229\u001b[0;31m     \u001b[0;32mif\u001b[0m \u001b[0misinstance\u001b[0m\u001b[0;34m(\u001b[0m\u001b[0mobj\u001b[0m\u001b[0;34m,\u001b[0m \u001b[0mABCSeries\u001b[0m\u001b[0;34m)\u001b[0m\u001b[0;34m:\u001b[0m\u001b[0;34m\u001b[0m\u001b[0;34m\u001b[0m\u001b[0m\n\u001b[0m\u001b[1;32m    230\u001b[0m         \u001b[0mresult\u001b[0m \u001b[0;34m=\u001b[0m \u001b[0mobj\u001b[0m\u001b[0;34m.\u001b[0m\u001b[0m_constructor\u001b[0m\u001b[0;34m(\u001b[0m\u001b[0mresult\u001b[0m\u001b[0;34m,\u001b[0m \u001b[0mindex\u001b[0m\u001b[0;34m=\u001b[0m\u001b[0mobj\u001b[0m\u001b[0;34m.\u001b[0m\u001b[0mindex\u001b[0m\u001b[0;34m,\u001b[0m \u001b[0mname\u001b[0m\u001b[0;34m=\u001b[0m\u001b[0mobj\u001b[0m\u001b[0;34m.\u001b[0m\u001b[0mname\u001b[0m\u001b[0;34m,\u001b[0m \u001b[0mcopy\u001b[0m\u001b[0;34m=\u001b[0m\u001b[0;32mFalse\u001b[0m\u001b[0;34m)\u001b[0m\u001b[0;34m\u001b[0m\u001b[0;34m\u001b[0m\u001b[0m\n\u001b[1;32m    231\u001b[0m \u001b[0;34m\u001b[0m\u001b[0m\n",
            "\u001b[0;31mKeyboardInterrupt\u001b[0m: "
          ]
        }
      ]
    },
    {
      "cell_type": "code",
      "metadata": {
        "id": "__1ovgtPiA9a",
        "outputId": "e78d8573-40cd-4a09-ce59-ab634c47db9d",
        "colab": {
          "base_uri": "https://localhost:8080/",
          "height": 217
        }
      },
      "source": [
        "# def test_cube(max_episode, max_step):\n",
        "#     env = TreasureCube(max_step=max_step)\n",
        "#     agent = RandomAgent() # TODO replace ??\n",
        "\n",
        "#     for epsisode_num in range(0, max_episode):\n",
        "#         state = env.reset()\n",
        "#         terminate = False\n",
        "#         t = 0\n",
        "#         episode_reward = 0\n",
        "#         while not terminate:\n",
        "#             action = agent.take_action(state)\n",
        "#             reward, terminate, next_state = env.step(action)\n",
        "#             episode_reward += reward\n",
        "#             # you can comment the following two lines, if the output is too much\n",
        "#             env.render() # comment\n",
        "#             print(f'step: {t}, action: {action}, reward: {reward}') # comment\n",
        "#             t += 1\n",
        "#             agent.train(state, action, next_state, reward)\n",
        "#             state = next_state\n",
        "#         print(f'epsisode: {epsisode_num}, total_steps: {t} episode reward: {episode_reward}')\n",
        "\n",
        "\n",
        "# if __name__ == '__main__':\n",
        "#     parser = argparse.ArgumentParser(description='Test')\n",
        "#     parser.add_argument('--max_episode', type=int, default=500)\n",
        "#     parser.add_argument('--max_step', type=int, default=500)\n",
        "#     args = parser.parse_args()\n",
        "\n",
        "#     test_cube(args.max_episode, args.max_step)\n"
      ],
      "execution_count": 61,
      "outputs": [
        {
          "output_type": "stream",
          "text": [
            "usage: ipykernel_launcher.py [-h] [--max_episode MAX_EPISODE]\n",
            "                             [--max_step MAX_STEP]\n",
            "ipykernel_launcher.py: error: unrecognized arguments: -f /root/.local/share/jupyter/runtime/kernel-8caa3149-f1cc-4e6c-977c-18c4ab236a99.json\n"
          ],
          "name": "stderr"
        },
        {
          "output_type": "error",
          "ename": "SystemExit",
          "evalue": "ignored",
          "traceback": [
            "An exception has occurred, use %tb to see the full traceback.\n",
            "\u001b[0;31mSystemExit\u001b[0m\u001b[0;31m:\u001b[0m 2\n"
          ]
        },
        {
          "output_type": "stream",
          "text": [
            "/usr/local/lib/python3.6/dist-packages/IPython/core/interactiveshell.py:2890: UserWarning: To exit: use 'exit', 'quit', or Ctrl-D.\n",
            "  warn(\"To exit: use 'exit', 'quit', or Ctrl-D.\", stacklevel=1)\n"
          ],
          "name": "stderr"
        }
      ]
    }
  ]
}